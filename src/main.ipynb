{
 "cells": [
  {
   "cell_type": "markdown",
   "id": "2b741898",
   "metadata": {},
   "source": [
    "# Часть 1: Зависимость от параметров распределений"
   ]
  },
  {
   "cell_type": "code",
   "execution_count": 1,
   "id": "9da35652",
   "metadata": {},
   "outputs": [],
   "source": [
    "import numpy as np\n",
    "from scipy.stats import skewnorm, t\n",
    "import networkx as nx\n",
    "from sklearn.neighbors import NearestNeighbors\n",
    "import matplotlib.pyplot as plt\n",
    "\n",
    "from utils import *"
   ]
  },
  {
   "cell_type": "code",
   "execution_count": 22,
   "id": "26d07e6b",
   "metadata": {},
   "outputs": [],
   "source": [
    "# Параметры\n",
    "n = 100\n",
    "k = 5\n",
    "d = 1\n",
    "M = 100\n",
    "M_large = 5000\n",
    "alpha_0 = 1\n",
    "nu_0 = 3"
   ]
  },
  {
   "cell_type": "code",
   "execution_count": 3,
   "id": "bc78b586",
   "metadata": {},
   "outputs": [],
   "source": [
    "alpha_values = np.linspace(-10, 10, 21)\n",
    "nu_values = np.arange(1, 11)\n",
    "Cknn_skew = []\n",
    "Cknn_student = []\n",
    "Tdist_skew = []\n",
    "Tdist_student = []"
   ]
  },
  {
   "cell_type": "code",
   "execution_count": 4,
   "id": "deb7ffa4",
   "metadata": {},
   "outputs": [
    {
     "data": {
      "application/vnd.jupyter.widget-view+json": {
       "model_id": "3f39d85767f64d2aa31f62f63d14fd6f",
       "version_major": 2,
       "version_minor": 0
      },
      "text/plain": [
       "Processing alpha values:   0%|          | 0/21 [00:00<?, ?it/s]"
      ]
     },
     "metadata": {},
     "output_type": "display_data"
    },
    {
     "data": {
      "application/vnd.jupyter.widget-view+json": {
       "model_id": "f5b298a96540426bb6f82ee2d4e948cb",
       "version_major": 2,
       "version_minor": 0
      },
      "text/plain": [
       "Simulations for alpha=-10.0:   0%|          | 0/100 [00:00<?, ?it/s]"
      ]
     },
     "metadata": {},
     "output_type": "display_data"
    },
    {
     "data": {
      "application/vnd.jupyter.widget-view+json": {
       "model_id": "ab1f3fd294de410f92f53598b1b83c38",
       "version_major": 2,
       "version_minor": 0
      },
      "text/plain": [
       "Simulations for alpha=-9.0:   0%|          | 0/100 [00:00<?, ?it/s]"
      ]
     },
     "metadata": {},
     "output_type": "display_data"
    },
    {
     "data": {
      "application/vnd.jupyter.widget-view+json": {
       "model_id": "6c75ee3c3f08439ab2ba42ebc6794f0c",
       "version_major": 2,
       "version_minor": 0
      },
      "text/plain": [
       "Simulations for alpha=-8.0:   0%|          | 0/100 [00:00<?, ?it/s]"
      ]
     },
     "metadata": {},
     "output_type": "display_data"
    },
    {
     "data": {
      "application/vnd.jupyter.widget-view+json": {
       "model_id": "71a6bc1fecef4bb1825e5a049933c7ae",
       "version_major": 2,
       "version_minor": 0
      },
      "text/plain": [
       "Simulations for alpha=-7.0:   0%|          | 0/100 [00:00<?, ?it/s]"
      ]
     },
     "metadata": {},
     "output_type": "display_data"
    },
    {
     "data": {
      "application/vnd.jupyter.widget-view+json": {
       "model_id": "2272331edc004c97911189c7dc33cbaa",
       "version_major": 2,
       "version_minor": 0
      },
      "text/plain": [
       "Simulations for alpha=-6.0:   0%|          | 0/100 [00:00<?, ?it/s]"
      ]
     },
     "metadata": {},
     "output_type": "display_data"
    },
    {
     "data": {
      "application/vnd.jupyter.widget-view+json": {
       "model_id": "d189150d211646b69a7cc538eb8629fe",
       "version_major": 2,
       "version_minor": 0
      },
      "text/plain": [
       "Simulations for alpha=-5.0:   0%|          | 0/100 [00:00<?, ?it/s]"
      ]
     },
     "metadata": {},
     "output_type": "display_data"
    },
    {
     "data": {
      "application/vnd.jupyter.widget-view+json": {
       "model_id": "97bcca33fe584d6faacb3f51a8c27978",
       "version_major": 2,
       "version_minor": 0
      },
      "text/plain": [
       "Simulations for alpha=-4.0:   0%|          | 0/100 [00:00<?, ?it/s]"
      ]
     },
     "metadata": {},
     "output_type": "display_data"
    },
    {
     "data": {
      "application/vnd.jupyter.widget-view+json": {
       "model_id": "f8ac91569eac4d07a584152815a60198",
       "version_major": 2,
       "version_minor": 0
      },
      "text/plain": [
       "Simulations for alpha=-3.0:   0%|          | 0/100 [00:00<?, ?it/s]"
      ]
     },
     "metadata": {},
     "output_type": "display_data"
    },
    {
     "data": {
      "application/vnd.jupyter.widget-view+json": {
       "model_id": "a83e5f78ec8640f1a0b79c229ade81fa",
       "version_major": 2,
       "version_minor": 0
      },
      "text/plain": [
       "Simulations for alpha=-2.0:   0%|          | 0/100 [00:00<?, ?it/s]"
      ]
     },
     "metadata": {},
     "output_type": "display_data"
    },
    {
     "data": {
      "application/vnd.jupyter.widget-view+json": {
       "model_id": "db942580332c43a28879bf72063ca0ce",
       "version_major": 2,
       "version_minor": 0
      },
      "text/plain": [
       "Simulations for alpha=-1.0:   0%|          | 0/100 [00:00<?, ?it/s]"
      ]
     },
     "metadata": {},
     "output_type": "display_data"
    },
    {
     "data": {
      "application/vnd.jupyter.widget-view+json": {
       "model_id": "a45d4caf758742ee92460337b2ac066b",
       "version_major": 2,
       "version_minor": 0
      },
      "text/plain": [
       "Simulations for alpha=0.0:   0%|          | 0/100 [00:00<?, ?it/s]"
      ]
     },
     "metadata": {},
     "output_type": "display_data"
    },
    {
     "data": {
      "application/vnd.jupyter.widget-view+json": {
       "model_id": "14bad08e9a484d3a9088aae9808d5a18",
       "version_major": 2,
       "version_minor": 0
      },
      "text/plain": [
       "Simulations for alpha=1.0:   0%|          | 0/100 [00:00<?, ?it/s]"
      ]
     },
     "metadata": {},
     "output_type": "display_data"
    },
    {
     "data": {
      "application/vnd.jupyter.widget-view+json": {
       "model_id": "4d00b7fe8a744b30942be6eb0794650c",
       "version_major": 2,
       "version_minor": 0
      },
      "text/plain": [
       "Simulations for alpha=2.0:   0%|          | 0/100 [00:00<?, ?it/s]"
      ]
     },
     "metadata": {},
     "output_type": "display_data"
    },
    {
     "data": {
      "application/vnd.jupyter.widget-view+json": {
       "model_id": "353ee1816b9d402ab2e8369d2a081d2d",
       "version_major": 2,
       "version_minor": 0
      },
      "text/plain": [
       "Simulations for alpha=3.0:   0%|          | 0/100 [00:00<?, ?it/s]"
      ]
     },
     "metadata": {},
     "output_type": "display_data"
    },
    {
     "data": {
      "application/vnd.jupyter.widget-view+json": {
       "model_id": "c6588c6e842b4955b31b054965ef0a95",
       "version_major": 2,
       "version_minor": 0
      },
      "text/plain": [
       "Simulations for alpha=4.0:   0%|          | 0/100 [00:00<?, ?it/s]"
      ]
     },
     "metadata": {},
     "output_type": "display_data"
    },
    {
     "data": {
      "application/vnd.jupyter.widget-view+json": {
       "model_id": "a9f33fe3798a4d57b0be09436b13dd2b",
       "version_major": 2,
       "version_minor": 0
      },
      "text/plain": [
       "Simulations for alpha=5.0:   0%|          | 0/100 [00:00<?, ?it/s]"
      ]
     },
     "metadata": {},
     "output_type": "display_data"
    },
    {
     "data": {
      "application/vnd.jupyter.widget-view+json": {
       "model_id": "eb387f77fde042019c1a826599626b24",
       "version_major": 2,
       "version_minor": 0
      },
      "text/plain": [
       "Simulations for alpha=6.0:   0%|          | 0/100 [00:00<?, ?it/s]"
      ]
     },
     "metadata": {},
     "output_type": "display_data"
    },
    {
     "data": {
      "application/vnd.jupyter.widget-view+json": {
       "model_id": "a42ac8c9e5bd4010b34117d873d80aa8",
       "version_major": 2,
       "version_minor": 0
      },
      "text/plain": [
       "Simulations for alpha=7.0:   0%|          | 0/100 [00:00<?, ?it/s]"
      ]
     },
     "metadata": {},
     "output_type": "display_data"
    },
    {
     "data": {
      "application/vnd.jupyter.widget-view+json": {
       "model_id": "1cb8420545834fb6ba21088e19d79659",
       "version_major": 2,
       "version_minor": 0
      },
      "text/plain": [
       "Simulations for alpha=8.0:   0%|          | 0/100 [00:00<?, ?it/s]"
      ]
     },
     "metadata": {},
     "output_type": "display_data"
    },
    {
     "data": {
      "application/vnd.jupyter.widget-view+json": {
       "model_id": "a4445d1ffd68484fb5e6305985553d7c",
       "version_major": 2,
       "version_minor": 0
      },
      "text/plain": [
       "Simulations for alpha=9.0:   0%|          | 0/100 [00:00<?, ?it/s]"
      ]
     },
     "metadata": {},
     "output_type": "display_data"
    },
    {
     "data": {
      "application/vnd.jupyter.widget-view+json": {
       "model_id": "dfb5ead7f2884996b1d6c0694dcced53",
       "version_major": 2,
       "version_minor": 0
      },
      "text/plain": [
       "Simulations for alpha=10.0:   0%|          | 0/100 [00:00<?, ?it/s]"
      ]
     },
     "metadata": {},
     "output_type": "display_data"
    }
   ],
   "source": [
    "from tqdm.notebook import tqdm\n",
    "\n",
    "Cknn_skew = []\n",
    "Tdist_skew = []\n",
    "for alpha in tqdm(alpha_values, desc=\"Processing alpha values\", position=0):\n",
    "    Cknn_sum = 0\n",
    "    Tdist_sum = 0\n",
    "    for _ in tqdm(range(M), desc=f\"Simulations for alpha={alpha}\", leave=False, position=1):\n",
    "        data = generate_skewnormal(n, alpha)\n",
    "        G_knn = build_knn_graph(data, k)\n",
    "        Cknn_sum += compute_number_of_components(G_knn)\n",
    "        G_dist = build_distance_graph(data, d)\n",
    "        Tdist_sum += clique_number(G_dist)\n",
    "    Cknn_skew.append(Cknn_sum / M)\n",
    "    Tdist_skew.append(Tdist_sum / M)"
   ]
  },
  {
   "cell_type": "code",
   "execution_count": 5,
   "id": "f9b8c982",
   "metadata": {},
   "outputs": [
    {
     "data": {
      "application/vnd.jupyter.widget-view+json": {
       "model_id": "aae236bd89c04e21b3170364dd366d7c",
       "version_major": 2,
       "version_minor": 0
      },
      "text/plain": [
       "Processing nu values:   0%|          | 0/10 [00:00<?, ?it/s]"
      ]
     },
     "metadata": {},
     "output_type": "display_data"
    },
    {
     "data": {
      "application/vnd.jupyter.widget-view+json": {
       "model_id": "aa7a3cee8e444f768a0036c82a3efea7",
       "version_major": 2,
       "version_minor": 0
      },
      "text/plain": [
       "Simulations for nu=1:   0%|          | 0/100 [00:00<?, ?it/s]"
      ]
     },
     "metadata": {},
     "output_type": "display_data"
    },
    {
     "data": {
      "application/vnd.jupyter.widget-view+json": {
       "model_id": "e26b62d92fa64ac0b216a82f0107993d",
       "version_major": 2,
       "version_minor": 0
      },
      "text/plain": [
       "Simulations for nu=2:   0%|          | 0/100 [00:00<?, ?it/s]"
      ]
     },
     "metadata": {},
     "output_type": "display_data"
    },
    {
     "data": {
      "application/vnd.jupyter.widget-view+json": {
       "model_id": "c7446e3844a149c999fe9425ec5e4cd8",
       "version_major": 2,
       "version_minor": 0
      },
      "text/plain": [
       "Simulations for nu=3:   0%|          | 0/100 [00:00<?, ?it/s]"
      ]
     },
     "metadata": {},
     "output_type": "display_data"
    },
    {
     "data": {
      "application/vnd.jupyter.widget-view+json": {
       "model_id": "9e3aa15ae5d34250b536ee0a7cb3f746",
       "version_major": 2,
       "version_minor": 0
      },
      "text/plain": [
       "Simulations for nu=4:   0%|          | 0/100 [00:00<?, ?it/s]"
      ]
     },
     "metadata": {},
     "output_type": "display_data"
    },
    {
     "data": {
      "application/vnd.jupyter.widget-view+json": {
       "model_id": "b3a639ce05ec407b910c0361f16efd23",
       "version_major": 2,
       "version_minor": 0
      },
      "text/plain": [
       "Simulations for nu=5:   0%|          | 0/100 [00:00<?, ?it/s]"
      ]
     },
     "metadata": {},
     "output_type": "display_data"
    },
    {
     "data": {
      "application/vnd.jupyter.widget-view+json": {
       "model_id": "b12500f16a1a457b9ecbdcde01dbc09b",
       "version_major": 2,
       "version_minor": 0
      },
      "text/plain": [
       "Simulations for nu=6:   0%|          | 0/100 [00:00<?, ?it/s]"
      ]
     },
     "metadata": {},
     "output_type": "display_data"
    },
    {
     "data": {
      "application/vnd.jupyter.widget-view+json": {
       "model_id": "b8cc1b6ea4114cb2a850ce19d7868414",
       "version_major": 2,
       "version_minor": 0
      },
      "text/plain": [
       "Simulations for nu=7:   0%|          | 0/100 [00:00<?, ?it/s]"
      ]
     },
     "metadata": {},
     "output_type": "display_data"
    },
    {
     "data": {
      "application/vnd.jupyter.widget-view+json": {
       "model_id": "53b995e9816d4cd4927aa3dfe02c6fcb",
       "version_major": 2,
       "version_minor": 0
      },
      "text/plain": [
       "Simulations for nu=8:   0%|          | 0/100 [00:00<?, ?it/s]"
      ]
     },
     "metadata": {},
     "output_type": "display_data"
    },
    {
     "data": {
      "application/vnd.jupyter.widget-view+json": {
       "model_id": "44cf14679bd942e0a0480643612bd915",
       "version_major": 2,
       "version_minor": 0
      },
      "text/plain": [
       "Simulations for nu=9:   0%|          | 0/100 [00:00<?, ?it/s]"
      ]
     },
     "metadata": {},
     "output_type": "display_data"
    },
    {
     "data": {
      "application/vnd.jupyter.widget-view+json": {
       "model_id": "58405050e6fe42b9a00ed0358e1a5753",
       "version_major": 2,
       "version_minor": 0
      },
      "text/plain": [
       "Simulations for nu=10:   0%|          | 0/100 [00:00<?, ?it/s]"
      ]
     },
     "metadata": {},
     "output_type": "display_data"
    }
   ],
   "source": [
    "from tqdm.notebook import tqdm\n",
    "\n",
    "Cknn_student = []\n",
    "Tdist_student = []\n",
    "for nu in tqdm(nu_values, desc=\"Processing nu values\", position=0):\n",
    "    Cknn_sum = 0\n",
    "    Tdist_sum = 0\n",
    "\n",
    "    for i in tqdm(range(M), desc=f\"Simulations for nu={nu}\", leave=False, position=1):\n",
    "        data = generate_student_t(n, nu)\n",
    "        G_knn = build_knn_graph(data, k)\n",
    "        Cknn_sum += compute_number_of_components(G_knn)\n",
    "        G_dist = build_distance_graph(data, d)\n",
    "        Tdist_sum += clique_number(G_dist)\n",
    "    Cknn_student.append(Cknn_sum / M)\n",
    "    Tdist_student.append(Tdist_sum / M)"
   ]
  },
  {
   "cell_type": "code",
   "execution_count": 9,
   "id": "580963c9",
   "metadata": {},
   "outputs": [
    {
     "data": {
      "image/png": "[encoded data removed]",
      "text/plain": [
       "<Figure size 1200x500 with 2 Axes>"
      ]
     },
     "metadata": {},
     "output_type": "display_data"
    }
   ],
   "source": [
    "plt.figure(figsize=(12, 5))\n",
    "plt.subplot(1, 2, 1)\n",
    "plt.plot(alpha_values, Cknn_skew, label=\"SkewNormal\")\n",
    "plt.plot(nu_values, Cknn_student, label=\"Student-t\")\n",
    "plt.xlabel(\"Параметр (α или ν)\")\n",
    "plt.ylabel(\"Среднее число компонент связности (knn)\")\n",
    "plt.legend()\n",
    "plt.subplot(1, 2, 2)\n",
    "plt.plot(alpha_values, Tdist_skew, label=\"SkewNormal\")\n",
    "plt.plot(nu_values, Tdist_student, label=\"Student-t\")\n",
    "plt.xlabel(\"Параметр (α или ν)\")\n",
    "plt.ylabel(\"Среднее кликовое число (dist)\")\n",
    "plt.legend()\n",
    "plt.savefig(\"part1_results.png\")\n",
    "plt.show()"
   ]
  },
  {
   "cell_type": "markdown",
   "id": "ed8ed84f",
   "metadata": {},
   "source": [
    "1. В knn графе параметр α не сильно влияет на число компонент связности\n",
    "2. В knn графе параметр ν чем больше - тем меньше компонент связности в графе\n",
    "3. В dist графе чем ближе параметр α к нулю, тем меньше кликовое число, чем дальше от нуля тем больше\n",
    "4. в dist графе чем больше ν тем больше число кликовое число"
   ]
  },
  {
   "cell_type": "markdown",
   "id": "7da51882",
   "metadata": {},
   "source": [
    "# Часть 2: Зависимость от n и k/d"
   ]
  },
  {
   "cell_type": "code",
   "execution_count": 11,
   "id": "15cc003b",
   "metadata": {},
   "outputs": [],
   "source": [
    "n_values = np.arange(10, 200, 10)\n",
    "k_values = np.arange(1, 20)\n",
    "d_values = np.arange(0.1, 3.1, 0.2)"
   ]
  },
  {
   "cell_type": "code",
   "execution_count": 17,
   "id": "48dc335d",
   "metadata": {},
   "outputs": [
    {
     "data": {
      "application/vnd.jupyter.widget-view+json": {
       "model_id": "2ac111a71c2f4bba90c91f46eb7f9cc8",
       "version_major": 2,
       "version_minor": 0
      },
      "text/plain": [
       "  0%|          | 0/19 [00:00<?, ?it/s]"
      ]
     },
     "metadata": {},
     "output_type": "display_data"
    },
    {
     "data": {
      "application/vnd.jupyter.widget-view+json": {
       "model_id": "84257b6f06334c228404de0bfb0b7aec",
       "version_major": 2,
       "version_minor": 0
      },
      "text/plain": [
       "  0%|          | 0/100 [00:00<?, ?it/s]"
      ]
     },
     "metadata": {},
     "output_type": "display_data"
    },
    {
     "data": {
      "application/vnd.jupyter.widget-view+json": {
       "model_id": "c7e8a3891cfa469e9cc4c113b216eb6b",
       "version_major": 2,
       "version_minor": 0
      },
      "text/plain": [
       "  0%|          | 0/100 [00:00<?, ?it/s]"
      ]
     },
     "metadata": {},
     "output_type": "display_data"
    },
    {
     "data": {
      "application/vnd.jupyter.widget-view+json": {
       "model_id": "a27c6e74287347a8a3932570877390ab",
       "version_major": 2,
       "version_minor": 0
      },
      "text/plain": [
       "  0%|          | 0/100 [00:00<?, ?it/s]"
      ]
     },
     "metadata": {},
     "output_type": "display_data"
    },
    {
     "data": {
      "application/vnd.jupyter.widget-view+json": {
       "model_id": "2271a17ed5284ed8be282409d074dcac",
       "version_major": 2,
       "version_minor": 0
      },
      "text/plain": [
       "  0%|          | 0/100 [00:00<?, ?it/s]"
      ]
     },
     "metadata": {},
     "output_type": "display_data"
    },
    {
     "data": {
      "application/vnd.jupyter.widget-view+json": {
       "model_id": "5af739411c184b209ac4ea6e54b3556f",
       "version_major": 2,
       "version_minor": 0
      },
      "text/plain": [
       "  0%|          | 0/100 [00:00<?, ?it/s]"
      ]
     },
     "metadata": {},
     "output_type": "display_data"
    },
    {
     "data": {
      "application/vnd.jupyter.widget-view+json": {
       "model_id": "55282534203f47629dbbad6f2ace08e7",
       "version_major": 2,
       "version_minor": 0
      },
      "text/plain": [
       "  0%|          | 0/100 [00:00<?, ?it/s]"
      ]
     },
     "metadata": {},
     "output_type": "display_data"
    },
    {
     "data": {
      "application/vnd.jupyter.widget-view+json": {
       "model_id": "3404d356d395413e969730928e15a86d",
       "version_major": 2,
       "version_minor": 0
      },
      "text/plain": [
       "  0%|          | 0/100 [00:00<?, ?it/s]"
      ]
     },
     "metadata": {},
     "output_type": "display_data"
    },
    {
     "data": {
      "application/vnd.jupyter.widget-view+json": {
       "model_id": "7d5999de010148e694cef70d655ff59e",
       "version_major": 2,
       "version_minor": 0
      },
      "text/plain": [
       "  0%|          | 0/100 [00:00<?, ?it/s]"
      ]
     },
     "metadata": {},
     "output_type": "display_data"
    },
    {
     "data": {
      "application/vnd.jupyter.widget-view+json": {
       "model_id": "ec7591136e19417ba963c31dbb9efa97",
       "version_major": 2,
       "version_minor": 0
      },
      "text/plain": [
       "  0%|          | 0/100 [00:00<?, ?it/s]"
      ]
     },
     "metadata": {},
     "output_type": "display_data"
    },
    {
     "data": {
      "application/vnd.jupyter.widget-view+json": {
       "model_id": "86412ad666784a0c96e77e241b9a2a46",
       "version_major": 2,
       "version_minor": 0
      },
      "text/plain": [
       "  0%|          | 0/100 [00:00<?, ?it/s]"
      ]
     },
     "metadata": {},
     "output_type": "display_data"
    },
    {
     "data": {
      "application/vnd.jupyter.widget-view+json": {
       "model_id": "2e4aa57b16bc4d6bb31fc0e7d33e63fe",
       "version_major": 2,
       "version_minor": 0
      },
      "text/plain": [
       "  0%|          | 0/100 [00:00<?, ?it/s]"
      ]
     },
     "metadata": {},
     "output_type": "display_data"
    },
    {
     "data": {
      "application/vnd.jupyter.widget-view+json": {
       "model_id": "58cb325e0ab04eba9b8638263692c914",
       "version_major": 2,
       "version_minor": 0
      },
      "text/plain": [
       "  0%|          | 0/100 [00:00<?, ?it/s]"
      ]
     },
     "metadata": {},
     "output_type": "display_data"
    },
    {
     "data": {
      "application/vnd.jupyter.widget-view+json": {
       "model_id": "3ec4d70319874a6390dd840438033fba",
       "version_major": 2,
       "version_minor": 0
      },
      "text/plain": [
       "  0%|          | 0/100 [00:00<?, ?it/s]"
      ]
     },
     "metadata": {},
     "output_type": "display_data"
    },
    {
     "data": {
      "application/vnd.jupyter.widget-view+json": {
       "model_id": "804d7ba49e7f4fd1a0ae6be6c9ac4093",
       "version_major": 2,
       "version_minor": 0
      },
      "text/plain": [
       "  0%|          | 0/100 [00:00<?, ?it/s]"
      ]
     },
     "metadata": {},
     "output_type": "display_data"
    },
    {
     "data": {
      "application/vnd.jupyter.widget-view+json": {
       "model_id": "33bc1f2102f34a8ab2b0d11ddf9909c8",
       "version_major": 2,
       "version_minor": 0
      },
      "text/plain": [
       "  0%|          | 0/100 [00:00<?, ?it/s]"
      ]
     },
     "metadata": {},
     "output_type": "display_data"
    },
    {
     "data": {
      "application/vnd.jupyter.widget-view+json": {
       "model_id": "51e5daaf4caf45cb93b09525882f65e9",
       "version_major": 2,
       "version_minor": 0
      },
      "text/plain": [
       "  0%|          | 0/100 [00:00<?, ?it/s]"
      ]
     },
     "metadata": {},
     "output_type": "display_data"
    },
    {
     "data": {
      "application/vnd.jupyter.widget-view+json": {
       "model_id": "a9ae8de1fd19479baa73829d8d301382",
       "version_major": 2,
       "version_minor": 0
      },
      "text/plain": [
       "  0%|          | 0/100 [00:00<?, ?it/s]"
      ]
     },
     "metadata": {},
     "output_type": "display_data"
    },
    {
     "data": {
      "application/vnd.jupyter.widget-view+json": {
       "model_id": "353c5039a094400d89a3445a5f6fb9da",
       "version_major": 2,
       "version_minor": 0
      },
      "text/plain": [
       "  0%|          | 0/100 [00:00<?, ?it/s]"
      ]
     },
     "metadata": {},
     "output_type": "display_data"
    },
    {
     "data": {
      "application/vnd.jupyter.widget-view+json": {
       "model_id": "54ec0634452e4a59b120974eec0c0864",
       "version_major": 2,
       "version_minor": 0
      },
      "text/plain": [
       "  0%|          | 0/100 [00:00<?, ?it/s]"
      ]
     },
     "metadata": {},
     "output_type": "display_data"
    }
   ],
   "source": [
    "Tknn_skew_n = []\n",
    "Tknn_student_n = []\n",
    "Tdist_skew_n = []\n",
    "Tdist_student_n = []\n",
    "for n_var in tqdm(n_values, position=0):\n",
    "    Tknn_sum_skew = Tknn_sum_student = Tdist_sum_skew = Tdist_sum_student = 0\n",
    "    for _ in tqdm(range(M), position=1, leave=False):\n",
    "        data_skew = generate_skewnormal(n_var, alpha_0)\n",
    "        data_student = generate_student_t(n_var, nu_0)\n",
    "        G_knn_skew = build_knn_graph(data_skew, k)\n",
    "        G_knn_student = build_knn_graph(data_student, k)\n",
    "        G_dist_skew = build_distance_graph(data_skew, d)\n",
    "        G_dist_student = build_distance_graph(data_student, d)\n",
    "        Tknn_sum_skew += compute_number_of_components(G_knn_skew)\n",
    "        Tknn_sum_student += compute_number_of_components(G_knn_student)\n",
    "        Tdist_sum_skew += clique_number(G_dist_skew)\n",
    "        Tdist_sum_student += clique_number(G_dist_student)\n",
    "    Tknn_skew_n.append(Tknn_sum_skew / M)\n",
    "    Tknn_student_n.append(Tknn_sum_student / M)\n",
    "    Tdist_skew_n.append(Tdist_sum_skew / M)\n",
    "    Tdist_student_n.append(Tdist_sum_student / M)"
   ]
  },
  {
   "cell_type": "code",
   "execution_count": 13,
   "id": "83e47506",
   "metadata": {},
   "outputs": [
    {
     "data": {
      "application/vnd.jupyter.widget-view+json": {
       "model_id": "9a7a120bbf2f43869e9f846926a3f462",
       "version_major": 2,
       "version_minor": 0
      },
      "text/plain": [
       "  0%|          | 0/19 [00:00<?, ?it/s]"
      ]
     },
     "metadata": {},
     "output_type": "display_data"
    },
    {
     "data": {
      "application/vnd.jupyter.widget-view+json": {
       "model_id": "e952a56affe548578ea2e0adb9773916",
       "version_major": 2,
       "version_minor": 0
      },
      "text/plain": [
       "  0%|          | 0/100 [00:00<?, ?it/s]"
      ]
     },
     "metadata": {},
     "output_type": "display_data"
    },
    {
     "data": {
      "application/vnd.jupyter.widget-view+json": {
       "model_id": "4b63a8f09fa349dfbe811f01ae970bdc",
       "version_major": 2,
       "version_minor": 0
      },
      "text/plain": [
       "  0%|          | 0/100 [00:00<?, ?it/s]"
      ]
     },
     "metadata": {},
     "output_type": "display_data"
    },
    {
     "data": {
      "application/vnd.jupyter.widget-view+json": {
       "model_id": "386489392b9a4d5295ee1baf65afac38",
       "version_major": 2,
       "version_minor": 0
      },
      "text/plain": [
       "  0%|          | 0/100 [00:00<?, ?it/s]"
      ]
     },
     "metadata": {},
     "output_type": "display_data"
    },
    {
     "data": {
      "application/vnd.jupyter.widget-view+json": {
       "model_id": "8d2ab5c350d542ac9bcb0006722d8eee",
       "version_major": 2,
       "version_minor": 0
      },
      "text/plain": [
       "  0%|          | 0/100 [00:00<?, ?it/s]"
      ]
     },
     "metadata": {},
     "output_type": "display_data"
    },
    {
     "data": {
      "application/vnd.jupyter.widget-view+json": {
       "model_id": "224d70ba34464e779efe574d68a33106",
       "version_major": 2,
       "version_minor": 0
      },
      "text/plain": [
       "  0%|          | 0/100 [00:00<?, ?it/s]"
      ]
     },
     "metadata": {},
     "output_type": "display_data"
    },
    {
     "data": {
      "application/vnd.jupyter.widget-view+json": {
       "model_id": "f41a8f947a704a428d01dec53439db33",
       "version_major": 2,
       "version_minor": 0
      },
      "text/plain": [
       "  0%|          | 0/100 [00:00<?, ?it/s]"
      ]
     },
     "metadata": {},
     "output_type": "display_data"
    },
    {
     "data": {
      "application/vnd.jupyter.widget-view+json": {
       "model_id": "af99dec4d7234e6288483ec9e553a479",
       "version_major": 2,
       "version_minor": 0
      },
      "text/plain": [
       "  0%|          | 0/100 [00:00<?, ?it/s]"
      ]
     },
     "metadata": {},
     "output_type": "display_data"
    },
    {
     "data": {
      "application/vnd.jupyter.widget-view+json": {
       "model_id": "7e8049d1808b4ea48d7935f9c24e410d",
       "version_major": 2,
       "version_minor": 0
      },
      "text/plain": [
       "  0%|          | 0/100 [00:00<?, ?it/s]"
      ]
     },
     "metadata": {},
     "output_type": "display_data"
    },
    {
     "data": {
      "application/vnd.jupyter.widget-view+json": {
       "model_id": "9e127d100c3d441d974222e198aed8ac",
       "version_major": 2,
       "version_minor": 0
      },
      "text/plain": [
       "  0%|          | 0/100 [00:00<?, ?it/s]"
      ]
     },
     "metadata": {},
     "output_type": "display_data"
    },
    {
     "data": {
      "application/vnd.jupyter.widget-view+json": {
       "model_id": "4adaa6a7543746229d2b0c2c4c73dad8",
       "version_major": 2,
       "version_minor": 0
      },
      "text/plain": [
       "  0%|          | 0/100 [00:00<?, ?it/s]"
      ]
     },
     "metadata": {},
     "output_type": "display_data"
    },
    {
     "data": {
      "application/vnd.jupyter.widget-view+json": {
       "model_id": "9ff8319d6ce0469ab4480483b1ac307b",
       "version_major": 2,
       "version_minor": 0
      },
      "text/plain": [
       "  0%|          | 0/100 [00:00<?, ?it/s]"
      ]
     },
     "metadata": {},
     "output_type": "display_data"
    },
    {
     "data": {
      "application/vnd.jupyter.widget-view+json": {
       "model_id": "596548b2a1df4e949e4eb1b1a79b0455",
       "version_major": 2,
       "version_minor": 0
      },
      "text/plain": [
       "  0%|          | 0/100 [00:00<?, ?it/s]"
      ]
     },
     "metadata": {},
     "output_type": "display_data"
    },
    {
     "data": {
      "application/vnd.jupyter.widget-view+json": {
       "model_id": "4e078ebc319442d283615b52edb153fb",
       "version_major": 2,
       "version_minor": 0
      },
      "text/plain": [
       "  0%|          | 0/100 [00:00<?, ?it/s]"
      ]
     },
     "metadata": {},
     "output_type": "display_data"
    },
    {
     "data": {
      "application/vnd.jupyter.widget-view+json": {
       "model_id": "0ae6d9dd315441ae8419b32fb375ad88",
       "version_major": 2,
       "version_minor": 0
      },
      "text/plain": [
       "  0%|          | 0/100 [00:00<?, ?it/s]"
      ]
     },
     "metadata": {},
     "output_type": "display_data"
    },
    {
     "data": {
      "application/vnd.jupyter.widget-view+json": {
       "model_id": "cf3e39dc117d4d8fa933d4fd6614aebc",
       "version_major": 2,
       "version_minor": 0
      },
      "text/plain": [
       "  0%|          | 0/100 [00:00<?, ?it/s]"
      ]
     },
     "metadata": {},
     "output_type": "display_data"
    },
    {
     "data": {
      "application/vnd.jupyter.widget-view+json": {
       "model_id": "495cc1c3fbda45fe8d46bca58e13fe3e",
       "version_major": 2,
       "version_minor": 0
      },
      "text/plain": [
       "  0%|          | 0/100 [00:00<?, ?it/s]"
      ]
     },
     "metadata": {},
     "output_type": "display_data"
    },
    {
     "data": {
      "application/vnd.jupyter.widget-view+json": {
       "model_id": "2fe8888240994548858a11bb585d18ec",
       "version_major": 2,
       "version_minor": 0
      },
      "text/plain": [
       "  0%|          | 0/100 [00:00<?, ?it/s]"
      ]
     },
     "metadata": {},
     "output_type": "display_data"
    },
    {
     "data": {
      "application/vnd.jupyter.widget-view+json": {
       "model_id": "71bc4c5722d04b3196a7e5af283020e2",
       "version_major": 2,
       "version_minor": 0
      },
      "text/plain": [
       "  0%|          | 0/100 [00:00<?, ?it/s]"
      ]
     },
     "metadata": {},
     "output_type": "display_data"
    },
    {
     "data": {
      "application/vnd.jupyter.widget-view+json": {
       "model_id": "947654e283ce403f8da30f4e788a033c",
       "version_major": 2,
       "version_minor": 0
      },
      "text/plain": [
       "  0%|          | 0/100 [00:00<?, ?it/s]"
      ]
     },
     "metadata": {},
     "output_type": "display_data"
    }
   ],
   "source": [
    "Tknn_skew_k = []\n",
    "Tknn_student_k = []\n",
    "for k_var in tqdm(k_values, position=0):\n",
    "    Tknn_sum_skew = Tknn_sum_student = 0\n",
    "    for _ in tqdm(range(M), position=1, leave=False):\n",
    "        data_skew = generate_skewnormal(n, alpha_0)\n",
    "        data_student = generate_student_t(n, nu_0)\n",
    "        G_knn_skew = build_knn_graph(data_skew, k_var)\n",
    "        G_knn_student = build_knn_graph(data_student, k_var)\n",
    "        Tknn_sum_skew += compute_number_of_components(G_knn_skew)\n",
    "        Tknn_sum_student += compute_number_of_components(G_knn_student)\n",
    "    Tknn_skew_k.append(Tknn_sum_skew / M)\n",
    "    Tknn_student_k.append(Tknn_sum_student / M)"
   ]
  },
  {
   "cell_type": "code",
   "execution_count": 14,
   "id": "810b3c5f",
   "metadata": {},
   "outputs": [
    {
     "data": {
      "application/vnd.jupyter.widget-view+json": {
       "model_id": "e53a1e93ceb747438bc75988e3d9e553",
       "version_major": 2,
       "version_minor": 0
      },
      "text/plain": [
       "  0%|          | 0/15 [00:00<?, ?it/s]"
      ]
     },
     "metadata": {},
     "output_type": "display_data"
    },
    {
     "data": {
      "application/vnd.jupyter.widget-view+json": {
       "model_id": "9b8fc4a3fefa48ccab059bb2890b82f7",
       "version_major": 2,
       "version_minor": 0
      },
      "text/plain": [
       "  0%|          | 0/100 [00:00<?, ?it/s]"
      ]
     },
     "metadata": {},
     "output_type": "display_data"
    },
    {
     "data": {
      "application/vnd.jupyter.widget-view+json": {
       "model_id": "78c1b0c2b64e4256a87b4103b9d0bb4b",
       "version_major": 2,
       "version_minor": 0
      },
      "text/plain": [
       "  0%|          | 0/100 [00:00<?, ?it/s]"
      ]
     },
     "metadata": {},
     "output_type": "display_data"
    },
    {
     "data": {
      "application/vnd.jupyter.widget-view+json": {
       "model_id": "22cf7d69bce24a9b8179cd9379bdbb67",
       "version_major": 2,
       "version_minor": 0
      },
      "text/plain": [
       "  0%|          | 0/100 [00:00<?, ?it/s]"
      ]
     },
     "metadata": {},
     "output_type": "display_data"
    },
    {
     "data": {
      "application/vnd.jupyter.widget-view+json": {
       "model_id": "127ade1dffdb4856a7f253263260812c",
       "version_major": 2,
       "version_minor": 0
      },
      "text/plain": [
       "  0%|          | 0/100 [00:00<?, ?it/s]"
      ]
     },
     "metadata": {},
     "output_type": "display_data"
    },
    {
     "data": {
      "application/vnd.jupyter.widget-view+json": {
       "model_id": "1341c94fd55d497ca75ffa1895c7bddb",
       "version_major": 2,
       "version_minor": 0
      },
      "text/plain": [
       "  0%|          | 0/100 [00:00<?, ?it/s]"
      ]
     },
     "metadata": {},
     "output_type": "display_data"
    },
    {
     "data": {
      "application/vnd.jupyter.widget-view+json": {
       "model_id": "513c4e45d71c4e08812f3dafd7b46c77",
       "version_major": 2,
       "version_minor": 0
      },
      "text/plain": [
       "  0%|          | 0/100 [00:00<?, ?it/s]"
      ]
     },
     "metadata": {},
     "output_type": "display_data"
    },
    {
     "data": {
      "application/vnd.jupyter.widget-view+json": {
       "model_id": "615868d33a844b3696d3e43431f72f31",
       "version_major": 2,
       "version_minor": 0
      },
      "text/plain": [
       "  0%|          | 0/100 [00:00<?, ?it/s]"
      ]
     },
     "metadata": {},
     "output_type": "display_data"
    },
    {
     "data": {
      "application/vnd.jupyter.widget-view+json": {
       "model_id": "54db3a5342604aeca380dac6e412aa76",
       "version_major": 2,
       "version_minor": 0
      },
      "text/plain": [
       "  0%|          | 0/100 [00:00<?, ?it/s]"
      ]
     },
     "metadata": {},
     "output_type": "display_data"
    },
    {
     "data": {
      "application/vnd.jupyter.widget-view+json": {
       "model_id": "3bba79a5dc1440b990ef95fb7fd6d841",
       "version_major": 2,
       "version_minor": 0
      },
      "text/plain": [
       "  0%|          | 0/100 [00:00<?, ?it/s]"
      ]
     },
     "metadata": {},
     "output_type": "display_data"
    },
    {
     "data": {
      "application/vnd.jupyter.widget-view+json": {
       "model_id": "0755879a40c24271bf960aede4246e5e",
       "version_major": 2,
       "version_minor": 0
      },
      "text/plain": [
       "  0%|          | 0/100 [00:00<?, ?it/s]"
      ]
     },
     "metadata": {},
     "output_type": "display_data"
    },
    {
     "data": {
      "application/vnd.jupyter.widget-view+json": {
       "model_id": "ef640deffce94f56b638b35725075fc4",
       "version_major": 2,
       "version_minor": 0
      },
      "text/plain": [
       "  0%|          | 0/100 [00:00<?, ?it/s]"
      ]
     },
     "metadata": {},
     "output_type": "display_data"
    },
    {
     "data": {
      "application/vnd.jupyter.widget-view+json": {
       "model_id": "fe5062a6d2f347ffb0ecea4c7a69e60d",
       "version_major": 2,
       "version_minor": 0
      },
      "text/plain": [
       "  0%|          | 0/100 [00:00<?, ?it/s]"
      ]
     },
     "metadata": {},
     "output_type": "display_data"
    },
    {
     "data": {
      "application/vnd.jupyter.widget-view+json": {
       "model_id": "cd123a8b93e14b2dbc963590641eb38b",
       "version_major": 2,
       "version_minor": 0
      },
      "text/plain": [
       "  0%|          | 0/100 [00:00<?, ?it/s]"
      ]
     },
     "metadata": {},
     "output_type": "display_data"
    },
    {
     "data": {
      "application/vnd.jupyter.widget-view+json": {
       "model_id": "c3fd6b0096074b588f84e2fd395e8116",
       "version_major": 2,
       "version_minor": 0
      },
      "text/plain": [
       "  0%|          | 0/100 [00:00<?, ?it/s]"
      ]
     },
     "metadata": {},
     "output_type": "display_data"
    },
    {
     "data": {
      "application/vnd.jupyter.widget-view+json": {
       "model_id": "7e282163d3544a5db3558162b17e9eee",
       "version_major": 2,
       "version_minor": 0
      },
      "text/plain": [
       "  0%|          | 0/100 [00:00<?, ?it/s]"
      ]
     },
     "metadata": {},
     "output_type": "display_data"
    }
   ],
   "source": [
    "Tdist_skew_d = []\n",
    "Tdist_student_d = []\n",
    "for d_var in tqdm(d_values, position=0):\n",
    "    Tdist_sum_skew = Tdist_sum_student = 0\n",
    "    for _ in tqdm(range(M), position=1, leave=False):\n",
    "        data_skew = generate_skewnormal(n, alpha_0)\n",
    "        data_student = generate_student_t(n, nu_0)\n",
    "        G_dist_skew = build_distance_graph(data_skew, d_var)\n",
    "        G_dist_student = build_distance_graph(data_student, d_var)\n",
    "        Tdist_sum_skew += clique_number(G_dist_skew)\n",
    "        Tdist_sum_student += clique_number(G_dist_student)\n",
    "    Tdist_skew_d.append(Tdist_sum_skew / M)\n",
    "    Tdist_student_d.append(Tdist_sum_student / M)"
   ]
  },
  {
   "cell_type": "code",
   "execution_count": 25,
   "id": "e5126bd4",
   "metadata": {},
   "outputs": [
    {
     "data": {
      "image/png": "[encoded data removed]",
      "text/plain": [
       "<Figure size 1200x1000 with 4 Axes>"
      ]
     },
     "metadata": {},
     "output_type": "display_data"
    }
   ],
   "source": [
    "plt.figure(figsize=(12, 10))\n",
    "plt.subplot(2, 2, 1)\n",
    "plt.plot(n_values, Tknn_skew_n, label=\"SkewNormal\")\n",
    "plt.plot(n_values, Tknn_student_n, label=\"Student-t\")\n",
    "plt.xlabel(\"n (k = 5)\")\n",
    "plt.ylabel(\"Среднее число компонет связности (knn)\")\n",
    "plt.legend()\n",
    "plt.subplot(2, 2, 2)\n",
    "plt.plot(k_values, Tknn_skew_k, label=\"SkewNormal\")\n",
    "plt.plot(k_values, Tknn_student_k, label=\"Student-t\")\n",
    "plt.xlabel(\"k (n = 100)\")\n",
    "plt.ylabel(\"Среднее число компонет связности (knn)\")\n",
    "plt.legend()\n",
    "plt.subplot(2, 2, 3)\n",
    "plt.plot(n_values, Tdist_skew_n, label=\"SkewNormal\")\n",
    "plt.plot(n_values, Tdist_student_n, label=\"Student-t\")\n",
    "plt.xlabel(\"n (d = 1)\")\n",
    "plt.ylabel(\"Среднее кликовое число (dist)\")\n",
    "plt.legend()\n",
    "plt.subplot(2, 2, 4)\n",
    "plt.plot(d_values, Tdist_skew_d, label=\"SkewNormal\")\n",
    "plt.plot(d_values, Tdist_student_d, label=\"Student-t\")\n",
    "plt.xlabel(\"d (n = 100)\")\n",
    "plt.ylabel(\"Среднее кликовое число (dist)\")\n",
    "plt.legend()\n",
    "plt.savefig(\"part2_results.png\")"
   ]
  },
  {
   "cell_type": "markdown",
   "id": "56fa79f4",
   "metadata": {},
   "source": [
    "Для dist различия в числовых характеристиках при различных параметрах графа более ощутимы чем для knn графа"
   ]
  },
  {
   "cell_type": "markdown",
   "id": "6347e4f2",
   "metadata": {},
   "source": [
    "# Часть 3: Построение множества A и оценка мощности"
   ]
  },
  {
   "cell_type": "code",
   "execution_count": 23,
   "id": "27a87433",
   "metadata": {},
   "outputs": [
    {
     "data": {
      "application/vnd.jupyter.widget-view+json": {
       "model_id": "6ee9df0b0a094192b0e83947fc316386",
       "version_major": 2,
       "version_minor": 0
      },
      "text/plain": [
       "  0%|          | 0/5000 [00:00<?, ?it/s]"
      ]
     },
     "metadata": {},
     "output_type": "display_data"
    }
   ],
   "source": [
    "Tknn_H0 = []\n",
    "Tknn_H1 = []\n",
    "Tdist_H0 = []\n",
    "Tdist_H1 = []\n",
    "\n",
    "for _ in tqdm(range(M_large)):\n",
    "    data_skew = generate_skewnormal(n, alpha_0)\n",
    "    data_student = generate_student_t(n, nu_0)\n",
    "    G_knn_skew = build_knn_graph(data_skew, k)\n",
    "    G_knn_student = build_knn_graph(data_student, k)\n",
    "    G_dist_skew = build_distance_graph(data_skew, d)\n",
    "    G_dist_student = build_distance_graph(data_student, d)\n",
    "    Tknn_H0.append(compute_number_of_components(G_knn_skew))\n",
    "    Tknn_H1.append(compute_number_of_components(G_knn_student))\n",
    "    Tdist_H0.append(clique_number(G_dist_skew))\n",
    "    Tdist_H1.append(clique_number(G_dist_student))"
   ]
  },
  {
   "cell_type": "code",
   "execution_count": 37,
   "id": "3732435e",
   "metadata": {},
   "outputs": [
    {
     "data": {
      "image/png": "[encoded data removed]",
      "text/plain": [
       "<Figure size 1200x500 with 2 Axes>"
      ]
     },
     "metadata": {},
     "output_type": "display_data"
    }
   ],
   "source": [
    "plt.figure(figsize=(12, 5))\n",
    "plt.subplot(1, 2, 1)\n",
    "plt.hist(Tknn_H0, bins=30, alpha=0.5, label=\"H0\")\n",
    "plt.hist(Tknn_H1, bins=30, alpha=0.5, label=\"H1\")\n",
    "plt.xlabel(\"Число компонент связности (knn)\")\n",
    "plt.ylabel(\"Частота\")\n",
    "plt.legend()\n",
    "plt.subplot(1, 2, 2)\n",
    "plt.hist(Tdist_H0, bins=30, alpha=0.5, label=\"H0\")\n",
    "plt.hist(Tdist_H1, bins=30, alpha=0.5, label=\"H1\")\n",
    "plt.xlabel(\"Кликовое число (dist)\")\n",
    "plt.ylabel(\"Частота\")\n",
    "plt.legend()\n",
    "plt.savefig(\"part3_results_0.png\")\n",
    "plt.show()"
   ]
  },
  {
   "cell_type": "markdown",
   "id": "2f0e9bdf",
   "metadata": {},
   "source": [
    "Визуально по графику видно, что числовые характеристики dist графа лучше разделяются в зависимости от порождающего граф распределения"
   ]
  },
  {
   "cell_type": "code",
   "execution_count": 44,
   "id": "1620e42c",
   "metadata": {},
   "outputs": [
    {
     "name": "stdout",
     "output_type": "stream",
     "text": [
      "Результаты для KNN-графа (количество компонент связности):\n",
      "Множество A (принимаем H0): {1, 2, 3, 4, 5, 6, 7, 8, 9, 10, 13, 15}\n",
      "Множество A_complement (принимаем H1): [12, 14, 11]\n",
      "Вероятность ошибки первого рода: 0.0206\n",
      "Мощность критерия: 0.0338\n",
      "\n",
      "Результаты для дистанционного графа (кликовое число):\n",
      "Множество A (принимаем H0): {43, 44, 45, 46, 47, 48, 49, 50, 51, 52, 53, 54, 55, 56, 57, 58, 59, 60, 61, 62, 63, 64, 65, 66}\n",
      "Множество A_complement (принимаем H1): [27, 28, 29, 30, 31, 32, 33, 34, 35, 36, 37, 38, 39, 40, 41, 42]\n",
      "Вероятность ошибки первого рода: 0.0392\n",
      "Мощность критерия: 0.8082\n"
     ]
    }
   ],
   "source": [
    "from collections import Counter\n",
    "\n",
    "# Функция для построения множества A и оценки мощности критерия\n",
    "def build_criterion(T_H0, T_H1, alpha=0.05):\n",
    "    # Построение эмпирических распределений\n",
    "    count_H0 = Counter(T_H0)\n",
    "    count_H1 = Counter(T_H1)\n",
    "    total_H0 = len(T_H0)\n",
    "    total_H1 = len(T_H1)\n",
    "\n",
    "    prob_H0 = {t: count / total_H0 for t, count in count_H0.items()}\n",
    "    prob_H1 = {t: count / total_H1 for t, count in count_H1.items()}\n",
    "    #print('PH0', prob_H0)\n",
    "    #print('PH1' ,prob_H1)\n",
    "\n",
    "    # Все уникальные значения характеристики\n",
    "    all_values = set(prob_H0.keys()) | set(prob_H1.keys())\n",
    "\n",
    "    # Расчет отношения правдоподобия для каждого значения\n",
    "    likelihood_ratio = {}\n",
    "    for t in all_values:\n",
    "        if prob_H0.get(t, 0) > 0:\n",
    "            likelihood_ratio[t] = prob_H1.get(t, 0) / prob_H0[t]\n",
    "        else:\n",
    "            likelihood_ratio[t] = float(\"inf\")\n",
    "\n",
    "    # Сортировка значений по убыванию отношения правдоподобия\n",
    "    sorted_values = sorted(all_values, key=lambda t: likelihood_ratio[t], reverse=True)\n",
    "\n",
    "    # Построение множества A_complement (значения, при которых принимаем H1)\n",
    "    A_complement = []\n",
    "    type1_error = 0\n",
    "\n",
    "    for t in sorted_values:\n",
    "        if type1_error + prob_H0.get(t, 0) <= alpha:\n",
    "            A_complement.append(t)\n",
    "            type1_error += prob_H0.get(t, 0)\n",
    "        else:\n",
    "            break\n",
    "\n",
    "    # Множество A (значения, при которых принимаем H0)\n",
    "    A = set(all_values) - set(A_complement)\n",
    "\n",
    "    # Оценка мощности критерия\n",
    "    power = sum(prob_H1.get(t, 0) for t in A_complement)\n",
    "\n",
    "    return A, A_complement, type1_error, power\n",
    "\n",
    "\n",
    "A_knn, A_complement_knn, type1_error_knn, power_knn = build_criterion(Tknn_H0, Tknn_H1)\n",
    "\n",
    "A_dist, A_complement_dist, type1_error_dist, power_dist = build_criterion(Tdist_H0, Tdist_H1)\n",
    "\n",
    "# Вывод результатов\n",
    "print(\"Результаты для KNN-графа (количество компонент связности):\")\n",
    "print(f\"Множество A (принимаем H0): {A_knn}\")\n",
    "print(f\"Множество A_complement (принимаем H1): {A_complement_knn}\")\n",
    "print(f\"Вероятность ошибки первого рода: {type1_error_knn:.4f}\")\n",
    "print(f\"Мощность критерия: {power_knn:.4f}\")\n",
    "\n",
    "print(\"\\nРезультаты для дистанционного графа (кликовое число):\")\n",
    "print(f\"Множество A (принимаем H0): {A_dist}\")\n",
    "print(f\"Множество A_complement (принимаем H1): {A_complement_dist}\")\n",
    "print(f\"Вероятность ошибки первого рода: {type1_error_dist:.4f}\")\n",
    "print(f\"Мощность критерия: {power_dist:.4f}\")"
   ]
  },
  {
   "cell_type": "code",
   "execution_count": 45,
   "id": "31347c20",
   "metadata": {},
   "outputs": [
    {
     "data": {
      "image/png": "[encoded data removed]",
      "text/plain": [
       "<Figure size 1500x1000 with 2 Axes>"
      ]
     },
     "metadata": {},
     "output_type": "display_data"
    }
   ],
   "source": [
    "import matplotlib.pyplot as plt\n",
    "import numpy as np\n",
    "\n",
    "plt.figure(figsize=(15, 10))\n",
    "\n",
    "# KNN-граф\n",
    "plt.subplot(2, 1, 1)\n",
    "all_values_knn = sorted(list(set(Tknn_H0) | set(Tknn_H1)))\n",
    "width = 0.35\n",
    "\n",
    "# Вычисляем частоты для каждого значения\n",
    "counts_H0_knn = Counter(Tknn_H0)\n",
    "counts_H1_knn = Counter(Tknn_H1)\n",
    "freq_H0_knn = [counts_H0_knn.get(val, 0) / len(Tknn_H0) for val in all_values_knn]\n",
    "freq_H1_knn = [counts_H1_knn.get(val, 0) / len(Tknn_H1) for val in all_values_knn]\n",
    "\n",
    "idx = np.arange(len(all_values_knn))\n",
    "plt.bar(idx - width / 2, freq_H0_knn, width, alpha=0.7, label=\"H0: SkewNormal(1)\")\n",
    "plt.bar(idx + width / 2, freq_H1_knn, width, alpha=0.7, label=\"H1: Student-t(3)\")\n",
    "\n",
    "# Отмечаем критическую область\n",
    "for i, val in enumerate(all_values_knn):\n",
    "    if val in A_complement_knn:\n",
    "        plt.axvspan(i - width, i + width, alpha=0.2, color=\"red\")\n",
    "\n",
    "plt.xticks(idx, all_values_knn)\n",
    "plt.legend()\n",
    "plt.title(f\"KNN-граф: количество компонент связности\\nМощность: {power_knn:.4f}, Ошибка I рода: {type1_error_knn:.4f}\")\n",
    "plt.xlabel(\"Количество компонент связности\")\n",
    "plt.ylabel(\"Частота\")\n",
    "plt.grid(alpha=0.3)\n",
    "\n",
    "# Дистанционный граф\n",
    "plt.subplot(2, 1, 2)\n",
    "all_values_dist = sorted(list(set(Tdist_H0) | set(Tdist_H1)))\n",
    "counts_H0_dist = Counter(Tdist_H0)\n",
    "counts_H1_dist = Counter(Tdist_H1)\n",
    "freq_H0_dist = [counts_H0_dist.get(val, 0) / len(Tdist_H0) for val in all_values_dist]\n",
    "freq_H1_dist = [counts_H1_dist.get(val, 0) / len(Tdist_H1) for val in all_values_dist]\n",
    "\n",
    "idx = np.arange(len(all_values_dist))\n",
    "plt.bar(idx - width / 2, freq_H0_dist, width, alpha=0.7, label=\"H0: SkewNormal(1)\")\n",
    "plt.bar(idx + width / 2, freq_H1_dist, width, alpha=0.7, label=\"H1: Student-t(3)\")\n",
    "\n",
    "# Отмечаем критическую область (красным фоном)\n",
    "for i, val in enumerate(all_values_dist):\n",
    "    if val in A_complement_dist:\n",
    "        plt.axvspan(i - width, i + width, alpha=0.2, color=\"red\")\n",
    "\n",
    "plt.xticks(idx[::5], all_values_dist[::5])  # Показываем каждую пятую метку для читаемости\n",
    "plt.legend()\n",
    "plt.title(f\"Дистанционный граф: кликовое число\\nМощность: {power_dist:.4f}, Ошибка I рода: {type1_error_dist:.4f}\")\n",
    "plt.xlabel(\"Кликовое число\")\n",
    "plt.ylabel(\"Частота\")\n",
    "plt.grid(alpha=0.3)\n",
    "\n",
    "plt.savefig(\"part3_results_1.png\")\n",
    "\n",
    "plt.tight_layout()\n",
    "plt.show()"
   ]
  },
  {
   "cell_type": "markdown",
   "id": "4bcc93d7",
   "metadata": {},
   "source": [
    "Для KNN-графа характеристика \"количество компонент связности\" плохо разделяет две гипотезы. Из распределений видно, что значения для H0 и H1 сильно перекрываются.\n",
    "Для DIST-графа характеристика \"кликовое число\" лучше разделяет две гипотезы. Значения для skew-normal в основном больше 42, а для student-t меньше 42.\n"
   ]
  }
 ],
 "metadata": {
  "kernelspec": {
   "display_name": "venv",
   "language": "python",
   "name": "python3"
  },
  "language_info": {
   "codemirror_mode": {
    "name": "ipython",
    "version": 3
   },
   "file_extension": ".py",
   "mimetype": "text/x-python",
   "name": "python",
   "nbconvert_exporter": "python",
   "pygments_lexer": "ipython3",
   "version": "3.11.12"
  }
 },
 "nbformat": 4,
 "nbformat_minor": 5
}
